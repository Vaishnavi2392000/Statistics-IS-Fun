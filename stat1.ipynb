{
 "cells": [
  {
   "cell_type": "code",
   "execution_count": 91,
   "id": "08b066b4",
   "metadata": {},
   "outputs": [],
   "source": [
    "import random\n",
    "import statistics\n",
    "import numpy as np\n",
    "import pandas as pd\n",
    "import matplotlib.pyplot as plt"
   ]
  },
  {
   "cell_type": "code",
   "execution_count": 105,
   "id": "e0058bb8",
   "metadata": {},
   "outputs": [],
   "source": [
    "randlist=[]\n",
    "for i in range(0,10):\n",
    "    n=random.randint(1,30)\n",
    "    randlist.append(n)"
   ]
  },
  {
   "cell_type": "code",
   "execution_count": 107,
   "id": "fa0020d5",
   "metadata": {},
   "outputs": [
    {
     "name": "stdout",
     "output_type": "stream",
     "text": [
      "[9, 27, 17, 18, 9, 22, 13, 11, 15, 28]\n"
     ]
    }
   ],
   "source": [
    "print(randlist)"
   ]
  },
  {
   "cell_type": "markdown",
   "id": "8dbc4ea1",
   "metadata": {},
   "source": [
    "# Mean calculation"
   ]
  },
  {
   "cell_type": "code",
   "execution_count": 108,
   "id": "2ca23862",
   "metadata": {},
   "outputs": [],
   "source": [
    "sum1=0\n",
    "for i in  range(len(randlist)):\n",
    "    sum1=sum1+randlist[i]"
   ]
  },
  {
   "cell_type": "code",
   "execution_count": 109,
   "id": "7d21985f",
   "metadata": {},
   "outputs": [
    {
     "data": {
      "text/plain": [
       "169"
      ]
     },
     "execution_count": 109,
     "metadata": {},
     "output_type": "execute_result"
    }
   ],
   "source": [
    "sum1"
   ]
  },
  {
   "cell_type": "code",
   "execution_count": 110,
   "id": "d8924cc8",
   "metadata": {},
   "outputs": [],
   "source": [
    "length=len(randlist)"
   ]
  },
  {
   "cell_type": "code",
   "execution_count": 111,
   "id": "7352f83f",
   "metadata": {},
   "outputs": [
    {
     "data": {
      "text/plain": [
       "10"
      ]
     },
     "execution_count": 111,
     "metadata": {},
     "output_type": "execute_result"
    }
   ],
   "source": [
    "length"
   ]
  },
  {
   "cell_type": "code",
   "execution_count": 112,
   "id": "2195a21f",
   "metadata": {
    "scrolled": true
   },
   "outputs": [],
   "source": [
    "ans=sum1/length"
   ]
  },
  {
   "cell_type": "code",
   "execution_count": 113,
   "id": "aa22444e",
   "metadata": {},
   "outputs": [
    {
     "name": "stdout",
     "output_type": "stream",
     "text": [
      "Arithmatic Mean is 16.9\n"
     ]
    }
   ],
   "source": [
    "print(\"Arithmatic Mean is {}\".format(ans))"
   ]
  },
  {
   "cell_type": "markdown",
   "id": "daab047a",
   "metadata": {},
   "source": [
    "# median "
   ]
  },
  {
   "cell_type": "code",
   "execution_count": 124,
   "id": "813bce80",
   "metadata": {},
   "outputs": [],
   "source": [
    "randlist.sort()\n",
    "len2=len(randlist)//2\n",
    "res = (randlist[mid] + randlist[~mid]) / 2"
   ]
  },
  {
   "cell_type": "code",
   "execution_count": 126,
   "id": "657d8237",
   "metadata": {},
   "outputs": [
    {
     "name": "stdout",
     "output_type": "stream",
     "text": [
      "median is 16.0\n"
     ]
    }
   ],
   "source": [
    "print('median is {}'.format(res))"
   ]
  },
  {
   "cell_type": "markdown",
   "id": "3f419040",
   "metadata": {},
   "source": [
    "# Mode"
   ]
  },
  {
   "cell_type": "code",
   "execution_count": 127,
   "id": "411eba25",
   "metadata": {},
   "outputs": [],
   "source": [
    "randlist1=[]\n",
    "for i in range(0,30):\n",
    "    n=random.randint(1,30)\n",
    "    randlist1.append(n)"
   ]
  },
  {
   "cell_type": "code",
   "execution_count": 129,
   "id": "e0dde865",
   "metadata": {},
   "outputs": [
    {
     "name": "stdout",
     "output_type": "stream",
     "text": [
      "[5, 22, 13, 12, 4, 11, 10, 1, 26, 1, 27, 22, 9, 23, 14, 6, 29, 8, 16, 2, 20, 30, 25, 2, 23, 28, 30, 3, 15, 9]\n"
     ]
    }
   ],
   "source": [
    "print(randlist1)"
   ]
  },
  {
   "cell_type": "code",
   "execution_count": 135,
   "id": "6d9314be",
   "metadata": {},
   "outputs": [],
   "source": [
    "ans2=(dict((i, randlist1.count(i)) for i in randlist1))"
   ]
  },
  {
   "cell_type": "code",
   "execution_count": 137,
   "id": "7cf73d2b",
   "metadata": {},
   "outputs": [
    {
     "data": {
      "text/plain": [
       "{5: 1,\n",
       " 22: 2,\n",
       " 13: 1,\n",
       " 12: 1,\n",
       " 4: 1,\n",
       " 11: 1,\n",
       " 10: 1,\n",
       " 1: 2,\n",
       " 26: 1,\n",
       " 27: 1,\n",
       " 9: 2,\n",
       " 23: 2,\n",
       " 14: 1,\n",
       " 6: 1,\n",
       " 29: 1,\n",
       " 8: 1,\n",
       " 16: 1,\n",
       " 2: 2,\n",
       " 20: 1,\n",
       " 30: 2,\n",
       " 25: 1,\n",
       " 28: 1,\n",
       " 3: 1,\n",
       " 15: 1}"
      ]
     },
     "execution_count": 137,
     "metadata": {},
     "output_type": "execute_result"
    }
   ],
   "source": [
    "ans2"
   ]
  },
  {
   "cell_type": "code",
   "execution_count": 138,
   "id": "013925c6",
   "metadata": {},
   "outputs": [],
   "source": [
    "values=ans2.values()"
   ]
  },
  {
   "cell_type": "code",
   "execution_count": 139,
   "id": "95e3482d",
   "metadata": {},
   "outputs": [
    {
     "data": {
      "text/plain": [
       "dict_values([1, 2, 1, 1, 1, 1, 1, 2, 1, 1, 2, 2, 1, 1, 1, 1, 1, 2, 1, 2, 1, 1, 1, 1])"
      ]
     },
     "execution_count": 139,
     "metadata": {},
     "output_type": "execute_result"
    }
   ],
   "source": [
    "values"
   ]
  },
  {
   "cell_type": "code",
   "execution_count": 142,
   "id": "cd300f16",
   "metadata": {},
   "outputs": [
    {
     "data": {
      "text/plain": [
       "2"
      ]
     },
     "execution_count": 142,
     "metadata": {},
     "output_type": "execute_result"
    }
   ],
   "source": [
    "res=max(values)\n",
    "res"
   ]
  },
  {
   "cell_type": "code",
   "execution_count": null,
   "id": "32888828",
   "metadata": {},
   "outputs": [],
   "source": []
  },
  {
   "cell_type": "code",
   "execution_count": null,
   "id": "941beae6",
   "metadata": {},
   "outputs": [],
   "source": []
  }
 ],
 "metadata": {
  "kernelspec": {
   "display_name": "Python 3",
   "language": "python",
   "name": "python3"
  },
  "language_info": {
   "codemirror_mode": {
    "name": "ipython",
    "version": 3
   },
   "file_extension": ".py",
   "mimetype": "text/x-python",
   "name": "python",
   "nbconvert_exporter": "python",
   "pygments_lexer": "ipython3",
   "version": "3.8.5"
  }
 },
 "nbformat": 4,
 "nbformat_minor": 5
}
