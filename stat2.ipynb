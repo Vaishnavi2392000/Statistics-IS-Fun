{
 "cells": [
  {
   "cell_type": "code",
   "execution_count": 26,
   "id": "03c21af4",
   "metadata": {},
   "outputs": [],
   "source": [
    "import random\n",
    "import statistics\n",
    "import numpy as np\n",
    "import pandas as pd\n",
    "import math"
   ]
  },
  {
   "cell_type": "code",
   "execution_count": 27,
   "id": "0dfc3efc",
   "metadata": {},
   "outputs": [],
   "source": [
    "randomlist=[2,2,3,3]"
   ]
  },
  {
   "cell_type": "markdown",
   "id": "3f5d3258",
   "metadata": {},
   "source": [
    "# varience: measure of dispersion\n"
   ]
  },
  {
   "cell_type": "code",
   "execution_count": 28,
   "id": "9966f013",
   "metadata": {},
   "outputs": [
    {
     "data": {
      "text/plain": [
       "2.5"
      ]
     },
     "execution_count": 28,
     "metadata": {},
     "output_type": "execute_result"
    }
   ],
   "source": [
    "mean=statistics.mean(randomlist)\n",
    "mean"
   ]
  },
  {
   "cell_type": "code",
   "execution_count": 29,
   "id": "6c6e304d",
   "metadata": {},
   "outputs": [],
   "source": [
    "res=[]\n",
    "for i in range(len(randomlist)):\n",
    "    ans=np.square(randomlist[i]-mean)\n",
    "    res.append(ans)\n",
    "    "
   ]
  },
  {
   "cell_type": "code",
   "execution_count": 30,
   "id": "fa32a6aa",
   "metadata": {},
   "outputs": [
    {
     "data": {
      "text/plain": [
       "[0.25, 0.25, 0.25, 0.25]"
      ]
     },
     "execution_count": 30,
     "metadata": {},
     "output_type": "execute_result"
    }
   ],
   "source": [
    "res"
   ]
  },
  {
   "cell_type": "code",
   "execution_count": 32,
   "id": "392f2a04",
   "metadata": {},
   "outputs": [
    {
     "name": "stdout",
     "output_type": "stream",
     "text": [
      "varience is 0.25\n"
     ]
    }
   ],
   "source": [
    "ans2=sum(res)/len(randomlist)\n",
    "print(\"varience is {}\".format(ans2))"
   ]
  },
  {
   "cell_type": "markdown",
   "id": "4045b101",
   "metadata": {},
   "source": [
    "# standard deviation"
   ]
  },
  {
   "cell_type": "code",
   "execution_count": 34,
   "id": "15b7a7f6",
   "metadata": {},
   "outputs": [
    {
     "name": "stdout",
     "output_type": "stream",
     "text": [
      "standard deviation is 0.5\n"
     ]
    }
   ],
   "source": [
    "std=math.sqrt(ans2)\n",
    "print(\"standard deviation is {}\".format(std))"
   ]
  },
  {
   "cell_type": "code",
   "execution_count": null,
   "id": "8153407d",
   "metadata": {},
   "outputs": [],
   "source": []
  }
 ],
 "metadata": {
  "kernelspec": {
   "display_name": "Python 3",
   "language": "python",
   "name": "python3"
  },
  "language_info": {
   "codemirror_mode": {
    "name": "ipython",
    "version": 3
   },
   "file_extension": ".py",
   "mimetype": "text/x-python",
   "name": "python",
   "nbconvert_exporter": "python",
   "pygments_lexer": "ipython3",
   "version": "3.8.5"
  }
 },
 "nbformat": 4,
 "nbformat_minor": 5
}
