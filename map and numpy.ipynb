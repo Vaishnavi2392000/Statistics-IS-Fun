{
 "cells": [
  {
   "cell_type": "markdown",
   "id": "8a0ca8de",
   "metadata": {},
   "source": [
    "# map()alone"
   ]
  },
  {
   "cell_type": "code",
   "execution_count": 1,
   "id": "b3734fe5",
   "metadata": {},
   "outputs": [],
   "source": [
    "lst1=[1,3,2,1]\n",
    "def add(r):\n",
    "    return num+2\n"
   ]
  },
  {
   "cell_type": "code",
   "execution_count": 2,
   "id": "91dfe14c",
   "metadata": {},
   "outputs": [],
   "source": [
    "ans=list(map(add,lst1))"
   ]
  },
  {
   "cell_type": "code",
   "execution_count": 4,
   "id": "60d6e84d",
   "metadata": {},
   "outputs": [
    {
     "data": {
      "text/plain": [
       "[3, 5, 4, 3]"
      ]
     },
     "execution_count": 4,
     "metadata": {},
     "output_type": "execute_result"
    }
   ],
   "source": [
    "ans"
   ]
  },
  {
   "cell_type": "markdown",
   "id": "447fed97",
   "metadata": {},
   "source": [
    "# lambda alone"
   ]
  },
  {
   "cell_type": "code",
   "execution_count": 10,
   "id": "6f5ec256",
   "metadata": {},
   "outputs": [
    {
     "data": {
      "text/plain": [
       "6"
      ]
     },
     "execution_count": 10,
     "metadata": {},
     "output_type": "execute_result"
    }
   ],
   "source": [
    "ans= lambda x:x+3\n",
    "ans(3)"
   ]
  },
  {
   "cell_type": "markdown",
   "id": "fafa334a",
   "metadata": {},
   "source": [
    "# lambda and map"
   ]
  },
  {
   "cell_type": "code",
   "execution_count": 9,
   "id": "480b6765",
   "metadata": {},
   "outputs": [
    {
     "data": {
      "text/plain": [
       "[3, 5, 4, 3]"
      ]
     },
     "execution_count": 9,
     "metadata": {},
     "output_type": "execute_result"
    }
   ],
   "source": [
    "lst2=[1,3,2,1]\n",
    "ans= list(map(lambda x: x+2,lst2))\n",
    "ans"
   ]
  },
  {
   "cell_type": "code",
   "execution_count": 11,
   "id": "e82a5b3f",
   "metadata": {},
   "outputs": [],
   "source": [
    "a=[1,2,3]\n",
    "b=[4,5,6]\n",
    "ans=list(map(lambda x,y: x+y,a,b))\n"
   ]
  },
  {
   "cell_type": "code",
   "execution_count": 12,
   "id": "c02a270c",
   "metadata": {},
   "outputs": [
    {
     "data": {
      "text/plain": [
       "[5, 7, 9]"
      ]
     },
     "execution_count": 12,
     "metadata": {},
     "output_type": "execute_result"
    }
   ],
   "source": [
    "ans"
   ]
  },
  {
   "cell_type": "code",
   "execution_count": 14,
   "id": "d7fac705",
   "metadata": {},
   "outputs": [],
   "source": [
    "str1=['shreya','pooja','sai']\n",
    "ans= list(map(lambda x:str.upper(x),str1))"
   ]
  },
  {
   "cell_type": "code",
   "execution_count": 15,
   "id": "251da007",
   "metadata": {},
   "outputs": [
    {
     "data": {
      "text/plain": [
       "['SHREYA', 'POOJA', 'SAI']"
      ]
     },
     "execution_count": 15,
     "metadata": {},
     "output_type": "execute_result"
    }
   ],
   "source": [
    "ans"
   ]
  },
  {
   "cell_type": "code",
   "execution_count": 16,
   "id": "c7ff2791",
   "metadata": {},
   "outputs": [],
   "source": [
    "str1=['shreya','pooja','sai']"
   ]
  },
  {
   "cell_type": "code",
   "execution_count": 17,
   "id": "66acc77c",
   "metadata": {},
   "outputs": [],
   "source": [
    "ans3=list(map(lambda x:str.upper(x),str1))"
   ]
  },
  {
   "cell_type": "code",
   "execution_count": 18,
   "id": "116ccec8",
   "metadata": {},
   "outputs": [
    {
     "data": {
      "text/plain": [
       "['SHREYA', 'POOJA', 'SAI']"
      ]
     },
     "execution_count": 18,
     "metadata": {},
     "output_type": "execute_result"
    }
   ],
   "source": [
    "ans3"
   ]
  },
  {
   "cell_type": "code",
   "execution_count": 19,
   "id": "6648ce4d",
   "metadata": {},
   "outputs": [],
   "source": [
    "ans4=map(list,str1)"
   ]
  },
  {
   "cell_type": "code",
   "execution_count": 21,
   "id": "e5012e41",
   "metadata": {},
   "outputs": [
    {
     "data": {
      "text/plain": [
       "[['s', 'h', 'r', 'e', 'y', 'a'], ['p', 'o', 'o', 'j', 'a'], ['s', 'a', 'i']]"
      ]
     },
     "execution_count": 21,
     "metadata": {},
     "output_type": "execute_result"
    }
   ],
   "source": [
    "list(ans4)"
   ]
  },
  {
   "cell_type": "code",
   "execution_count": null,
   "id": "9caaee05",
   "metadata": {},
   "outputs": [],
   "source": []
  }
 ],
 "metadata": {
  "kernelspec": {
   "display_name": "Python 3",
   "language": "python",
   "name": "python3"
  },
  "language_info": {
   "codemirror_mode": {
    "name": "ipython",
    "version": 3
   },
   "file_extension": ".py",
   "mimetype": "text/x-python",
   "name": "python",
   "nbconvert_exporter": "python",
   "pygments_lexer": "ipython3",
   "version": "3.8.5"
  }
 },
 "nbformat": 4,
 "nbformat_minor": 5
}
