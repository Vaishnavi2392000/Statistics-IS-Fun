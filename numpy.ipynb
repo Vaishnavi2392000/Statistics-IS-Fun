{
 "cells": [
  {
   "cell_type": "code",
   "execution_count": 3,
   "id": "eb11db40",
   "metadata": {},
   "outputs": [],
   "source": [
    "import numpy as np"
   ]
  },
  {
   "cell_type": "code",
   "execution_count": 5,
   "id": "53ba56e9",
   "metadata": {},
   "outputs": [],
   "source": [
    "arr=[1,2,3,4]\n",
    "my_arr=np.array(arr)"
   ]
  },
  {
   "cell_type": "code",
   "execution_count": 7,
   "id": "98ffa465",
   "metadata": {},
   "outputs": [
    {
     "name": "stdout",
     "output_type": "stream",
     "text": [
      "[1 2 3 4]\n"
     ]
    }
   ],
   "source": [
    "print(my_arr)"
   ]
  },
  {
   "cell_type": "code",
   "execution_count": 8,
   "id": "b6c8cca9",
   "metadata": {},
   "outputs": [
    {
     "data": {
      "text/plain": [
       "numpy.ndarray"
      ]
     },
     "execution_count": 8,
     "metadata": {},
     "output_type": "execute_result"
    }
   ],
   "source": [
    "type(my_arr)"
   ]
  },
  {
   "cell_type": "code",
   "execution_count": 9,
   "id": "01a4cede",
   "metadata": {},
   "outputs": [],
   "source": [
    "a1=[1,2,3,4]\n",
    "a2=[3,4,5,6]\n",
    "a3=[7,8,9,10]"
   ]
  },
  {
   "cell_type": "code",
   "execution_count": 10,
   "id": "33e3df36",
   "metadata": {},
   "outputs": [],
   "source": [
    "new_Array=np.array((a1,a2,a3))"
   ]
  },
  {
   "cell_type": "code",
   "execution_count": 11,
   "id": "bf830ddd",
   "metadata": {},
   "outputs": [
    {
     "data": {
      "text/plain": [
       "array([[ 1,  2,  3,  4],\n",
       "       [ 3,  4,  5,  6],\n",
       "       [ 7,  8,  9, 10]])"
      ]
     },
     "execution_count": 11,
     "metadata": {},
     "output_type": "execute_result"
    }
   ],
   "source": [
    "new_Array"
   ]
  },
  {
   "cell_type": "code",
   "execution_count": 13,
   "id": "ed91e895",
   "metadata": {},
   "outputs": [
    {
     "data": {
      "text/plain": [
       "(3, 4)"
      ]
     },
     "execution_count": 13,
     "metadata": {},
     "output_type": "execute_result"
    }
   ],
   "source": [
    "new_Array.shape"
   ]
  },
  {
   "cell_type": "code",
   "execution_count": 19,
   "id": "a242da45",
   "metadata": {},
   "outputs": [
    {
     "data": {
      "text/plain": [
       "array([[3, 4],\n",
       "       [7, 8]])"
      ]
     },
     "execution_count": 19,
     "metadata": {},
     "output_type": "execute_result"
    }
   ],
   "source": [
    "new_Array[1:,:2]"
   ]
  },
  {
   "cell_type": "code",
   "execution_count": 23,
   "id": "caf924f8",
   "metadata": {},
   "outputs": [
    {
     "data": {
      "text/plain": [
       "array([[ 3,  4],\n",
       "       [ 5,  6],\n",
       "       [ 9, 10]])"
      ]
     },
     "execution_count": 23,
     "metadata": {},
     "output_type": "execute_result"
    }
   ],
   "source": [
    "new_Array[:,2:]"
   ]
  },
  {
   "cell_type": "code",
   "execution_count": 27,
   "id": "44f84960",
   "metadata": {},
   "outputs": [
    {
     "data": {
      "text/plain": [
       "array([1, 2, 3, 4, 3, 4, 5])"
      ]
     },
     "execution_count": 27,
     "metadata": {},
     "output_type": "execute_result"
    }
   ],
   "source": [
    "val=3\n",
    "new_Array[new_Array<6]"
   ]
  },
  {
   "cell_type": "code",
   "execution_count": 30,
   "id": "a71ca132",
   "metadata": {},
   "outputs": [
    {
     "data": {
      "text/plain": [
       "array([[0, 1, 2, 3, 4],\n",
       "       [5, 6, 7, 8, 9]])"
      ]
     },
     "execution_count": 30,
     "metadata": {},
     "output_type": "execute_result"
    }
   ],
   "source": [
    "np.arange(0,10).reshape(2,5)"
   ]
  },
  {
   "cell_type": "code",
   "execution_count": null,
   "id": "32b0b7bc",
   "metadata": {},
   "outputs": [],
   "source": []
  }
 ],
 "metadata": {
  "kernelspec": {
   "display_name": "Python 3",
   "language": "python",
   "name": "python3"
  },
  "language_info": {
   "codemirror_mode": {
    "name": "ipython",
    "version": 3
   },
   "file_extension": ".py",
   "mimetype": "text/x-python",
   "name": "python",
   "nbconvert_exporter": "python",
   "pygments_lexer": "ipython3",
   "version": "3.8.5"
  }
 },
 "nbformat": 4,
 "nbformat_minor": 5
}
